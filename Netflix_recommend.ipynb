{
 "cells": [
  {
   "cell_type": "code",
   "execution_count": 1,
   "metadata": {},
   "outputs": [],
   "source": [
    "# https://www.kaggle.com/laowingkin/netflix-movie-recommendation\n",
    "\n",
    "# Rcommendation models\n",
    "# Recommend with Collaborative Filtering (Edit on 2017/11/07)\n",
    "# Recommend with Pearsons' R correlation\n",
    "\n",
    "# I studied on Saturday, April 20, 2019, 4PM (Sat, 4/20/2019)."
   ]
  },
  {
   "cell_type": "code",
   "execution_count": 2,
   "metadata": {},
   "outputs": [],
   "source": [
    "import pandas as pd\n",
    "import numpy as np\n",
    "import math\n",
    "import re\n",
    "from scipy.sparse import csr_matrix\n",
    "import matplotlib.pyplot as plt\n",
    "import seaborn as sns\n",
    "from surprise import Reader, Dataset, SVD, evaluate\n",
    "sns.set_style(\"darkgrid\")\n",
    "#conda install -c anaconda seaborn\n",
    "#conda install -c conda-forge scikit-surprise"
   ]
  },
  {
   "cell_type": "code",
   "execution_count": 3,
   "metadata": {},
   "outputs": [
    {
     "name": "stdout",
     "output_type": "stream",
     "text": [
      "Dataset 1 shape: (24058263, 2)\n",
      "-Dataset examples-\n",
      "          Cust_Id  Rating\n",
      "0              1:     NaN\n",
      "5000000   2560324     4.0\n",
      "10000000  2271935     2.0\n",
      "15000000  1921803     2.0\n",
      "20000000  1933327     3.0\n"
     ]
    }
   ],
   "source": [
    "# Data manipulation \n",
    "# Data loading \n",
    "# Movie ID, Customer ID, Rating (1~5), Date they gave the ratings\n",
    "\n",
    "# Next let's load first data file and get a feeling of how huge the dataset is:\n",
    "# Skip date\n",
    "#df1 = pd.read_csv('../input/combined_data_1.txt', header = None, names = ['Cust_Id', 'Rating'], usecols = [0,1])\n",
    "df1 = pd.read_csv('combined_data_1.txt', header = None, names = ['Cust_Id', 'Rating'], usecols = [0,1])\n",
    "\n",
    "df1['Rating'] = df1['Rating'].astype(float)\n",
    "\n",
    "print('Dataset 1 shape: {}'.format(df1.shape))\n",
    "print('-Dataset examples-')\n",
    "print(df1.iloc[::5000000, :])"
   ]
  },
  {
   "cell_type": "code",
   "execution_count": 4,
   "metadata": {},
   "outputs": [],
   "source": [
    "# Let's try to load the 3 remaining dataset as well:\n",
    "\n",
    "#df2 = pd.read_csv('../input/combined_data_2.txt', header = None, names = ['Cust_Id', 'Rating'], usecols = [0,1])\n",
    "#df3 = pd.read_csv('../input/combined_data_3.txt', header = None, names = ['Cust_Id', 'Rating'], usecols = [0,1])\n",
    "#df4 = pd.read_csv('../input/combined_data_4.txt', header = None, names = ['Cust_Id', 'Rating'], usecols = [0,1])\n",
    "\n",
    "#df2['Rating'] = df2['Rating'].astype(float)\n",
    "#df3['Rating'] = df3['Rating'].astype(float)\n",
    "#df4['Rating'] = df4['Rating'].astype(float)\n",
    "\n",
    "#print('Dataset 2 shape: {}'.format(df2.shape))\n",
    "#print('Dataset 3 shape: {}'.format(df3.shape))\n",
    "#print('Dataset 4 shape: {}'.format(df4.shape))"
   ]
  },
  {
   "cell_type": "code",
   "execution_count": 5,
   "metadata": {},
   "outputs": [
    {
     "name": "stdout",
     "output_type": "stream",
     "text": [
      "Full dataset shape: (24058263, 2)\n",
      "-Dataset examples-\n",
      "          Cust_Id  Rating\n",
      "0              1:     NaN\n",
      "5000000   2560324     4.0\n",
      "10000000  2271935     2.0\n",
      "15000000  1921803     2.0\n",
      "20000000  1933327     3.0\n"
     ]
    }
   ],
   "source": [
    "# Now we combine datasets:  \n",
    "# load less data for speed\n",
    "\n",
    "df = df1\n",
    "#df = df1.append(df2)\n",
    "#df = df.append(df3)\n",
    "#df = df.append(df4)\n",
    "\n",
    "df.index = np.arange(0,len(df))\n",
    "print('Full dataset shape: {}'.format(df.shape))\n",
    "print('-Dataset examples-')\n",
    "print(df.iloc[::5000000, :])"
   ]
  },
  {
   "cell_type": "code",
   "execution_count": 6,
   "metadata": {},
   "outputs": [
    {
     "data": {
      "image/png": "[encoded data removed]",
      "text/plain": [
       "<Figure size 1080x720 with 1 Axes>"
      ]
     },
     "metadata": {
      "needs_background": "light"
     },
     "output_type": "display_data"
    }
   ],
   "source": [
    "# Data viewing \n",
    "# Let's give a first look on how the data spres : \n",
    "\n",
    "p = df.groupby('Rating')['Rating'].agg(['count'])\n",
    "\n",
    "# get movie count\n",
    "movie_count = df.isnull().sum()[1]\n",
    "\n",
    "# get customer count\n",
    "cust_count = df['Cust_Id'].nunique() - movie_count\n",
    "\n",
    "# get rating count\n",
    "rating_count = df['Cust_Id'].count() - movie_count\n",
    "\n",
    "ax = p.plot(kind = 'barh', legend = False, figsize = (15,10))\n",
    "plt.title('Total pool: {:,} Movies, {:,} customers, {:,} ratings given'.format(movie_count, cust_count, rating_count), fontsize=20)\n",
    "plt.axis('off')\n",
    "\n",
    "for i in range(1,6):\n",
    "    ax.text(p.iloc[i-1][0]/4, i-1, 'Rating {}: {:.0f}%'.format(i, p.iloc[i-1][0]*100 / p.sum()[0]), color = 'white', weight = 'bold')"
   ]
  },
  {
   "cell_type": "code",
   "execution_count": 8,
   "metadata": {},
   "outputs": [
    {
     "name": "stdout",
     "output_type": "stream",
     "text": [
      "Movie numpy: [1.000e+00 1.000e+00 1.000e+00 ... 4.499e+03 4.499e+03 4.499e+03]\n",
      "Length: 24053764\n"
     ]
    }
   ],
   "source": [
    "# Data cleaning \n",
    "\"\"\"Looping through dataframe to add Movie ID column \n",
    "WILL make the Kernel run out of memory \n",
    "as it is too inefficient. \n",
    "I achieve my task by first creating a numpy array \n",
    "with correct length then add the whole array \n",
    "as column into the main dataframe!\n",
    "\"\"\"\n",
    "df_nan = pd.DataFrame(pd.isnull(df.Rating))\n",
    "df_nan = df_nan[df_nan['Rating'] == True]\n",
    "df_nan = df_nan.reset_index()\n",
    "\n",
    "movie_np = []\n",
    "movie_id = 1\n",
    "\n",
    "for i,j in zip(df_nan['index'][1:],df_nan['index'][:-1]):\n",
    "    # numpy approach\n",
    "    temp = np.full((1,i-j-1), movie_id)\n",
    "    movie_np = np.append(movie_np, temp)\n",
    "    movie_id += 1\n",
    "\n",
    "# Account for last record and corresponding length\n",
    "# numpy approach\n",
    "last_record = np.full((1,len(df) - df_nan.iloc[-1, 0] - 1),movie_id)\n",
    "movie_np = np.append(movie_np, last_record)\n",
    "\n",
    "print('Movie numpy: {}'.format(movie_np))\n",
    "print('Length: {}'.format(len(movie_np)))"
   ]
  },
  {
   "cell_type": "code",
   "execution_count": 9,
   "metadata": {},
   "outputs": [
    {
     "name": "stderr",
     "output_type": "stream",
     "text": [
      "C:\\Users\\USER\\Anaconda3\\envs\\tensorflow-gpu\\lib\\site-packages\\ipykernel_launcher.py:4: SettingWithCopyWarning: \n",
      "A value is trying to be set on a copy of a slice from a DataFrame.\n",
      "Try using .loc[row_indexer,col_indexer] = value instead\n",
      "\n",
      "See the caveats in the documentation: http://pandas.pydata.org/pandas-docs/stable/indexing.html#indexing-view-versus-copy\n",
      "  after removing the cwd from sys.path.\n",
      "C:\\Users\\USER\\Anaconda3\\envs\\tensorflow-gpu\\lib\\site-packages\\ipykernel_launcher.py:5: SettingWithCopyWarning: \n",
      "A value is trying to be set on a copy of a slice from a DataFrame.\n",
      "Try using .loc[row_indexer,col_indexer] = value instead\n",
      "\n",
      "See the caveats in the documentation: http://pandas.pydata.org/pandas-docs/stable/indexing.html#indexing-view-versus-copy\n",
      "  \"\"\"\n"
     ]
    },
    {
     "name": "stdout",
     "output_type": "stream",
     "text": [
      "-Dataset examples-\n",
      "          Cust_Id  Rating  Movie_Id\n",
      "1         1488844     3.0         1\n",
      "5000996    501954     2.0       996\n",
      "10001962   404654     5.0      1962\n",
      "15002876   886608     2.0      2876\n",
      "20003825  1193835     2.0      3825\n"
     ]
    }
   ],
   "source": [
    "# remove those Movie ID rows\n",
    "df = df[pd.notnull(df['Rating'])]\n",
    "\n",
    "df['Movie_Id'] = movie_np.astype(int)\n",
    "df['Cust_Id'] = df['Cust_Id'].astype(int)\n",
    "print('-Dataset examples-')\n",
    "print(df.iloc[::5000000, :])"
   ]
  },
  {
   "cell_type": "code",
   "execution_count": 10,
   "metadata": {},
   "outputs": [
    {
     "name": "stdout",
     "output_type": "stream",
     "text": [
      "Movie minimum times of review: 3884.0\n",
      "Customer minimum times of review: 79.0\n"
     ]
    }
   ],
   "source": [
    "# Data slicing \n",
    "# I tried to reduce the data volumn by improving the data quality below:\n",
    "\"\"\"Remove movie with too less reviews (they are relatively not popular)\n",
    "Remove customer who give too less reviews (they are relatively less active)\n",
    "Having above benchmark will have significant improvement on efficiency,\n",
    "since those unpopular movies and non-active customers \n",
    "still occupy same volumn as those popular movies \n",
    "and active customers in the view of matrix (NaN still occupy space). \n",
    "This should help improve the statistical signifiance too.\n",
    "\"\"\"\n",
    "f = ['count','mean']\n",
    "\n",
    "df_movie_summary = df.groupby('Movie_Id')['Rating'].agg(f)\n",
    "df_movie_summary.index = df_movie_summary.index.map(int)\n",
    "movie_benchmark = round(df_movie_summary['count'].quantile(0.8),0)\n",
    "drop_movie_list = df_movie_summary[df_movie_summary['count'] < movie_benchmark].index\n",
    "\n",
    "print('Movie minimum times of review: {}'.format(movie_benchmark))\n",
    "\n",
    "df_cust_summary = df.groupby('Cust_Id')['Rating'].agg(f)\n",
    "df_cust_summary.index = df_cust_summary.index.map(int)\n",
    "cust_benchmark = round(df_cust_summary['count'].quantile(0.8),0)\n",
    "drop_cust_list = df_cust_summary[df_cust_summary['count'] < cust_benchmark].index\n",
    "\n",
    "print('Customer minimum times of review: {}'.format(cust_benchmark))"
   ]
  },
  {
   "cell_type": "code",
   "execution_count": 11,
   "metadata": {},
   "outputs": [
    {
     "name": "stdout",
     "output_type": "stream",
     "text": [
      "Original Shape: (24053764, 3)\n",
      "After Trim Shape: (13528427, 3)\n",
      "-Data Examples-\n",
      "          Cust_Id  Rating  Movie_Id\n",
      "5109       785314     1.0         8\n",
      "8889698    332300     3.0      1770\n",
      "17751978   629874     4.0      3391\n"
     ]
    }
   ],
   "source": [
    "# Now let's trim down our data, whats the difference in data size?\n",
    "\n",
    "print('Original Shape: {}'.format(df.shape))\n",
    "df = df[~df['Movie_Id'].isin(drop_movie_list)]\n",
    "df = df[~df['Cust_Id'].isin(drop_cust_list)]\n",
    "print('After Trim Shape: {}'.format(df.shape))\n",
    "print('-Data Examples-')\n",
    "print(df.iloc[::5000000, :])"
   ]
  },
  {
   "cell_type": "code",
   "execution_count": 12,
   "metadata": {},
   "outputs": [
    {
     "name": "stdout",
     "output_type": "stream",
     "text": [
      "(95325, 900)\n"
     ]
    }
   ],
   "source": [
    "# Let's pivot the data set and put it into a giant matrix - we need it for our recommendation system:\n",
    "\n",
    "df_p = pd.pivot_table(df,values='Rating',index='Cust_Id',columns='Movie_Id')\n",
    "\n",
    "print(df_p.shape)\n",
    "\n",
    "# Below is another way I used to sparse the dataframe...doesn't seem to work better\n",
    "\n",
    "#Cust_Id_u = list(sorted(df['Cust_Id'].unique()))\n",
    "#Movie_Id_u = list(sorted(df['Movie_Id'].unique()))\n",
    "#data = df['Rating'].tolist()\n",
    "#row = df['Cust_Id'].astype('category', categories=Cust_Id_u).cat.codes\n",
    "#col = df['Movie_Id'].astype('category', categories=Movie_Id_u).cat.codes\n",
    "#sparse_matrix = csr_matrix((data, (row, col)), shape=(len(Cust_Id_u), len(Movie_Id_u)))\n",
    "#df_p = pd.DataFrame(sparse_matrix.todense(), index=Cust_Id_u, columns=Movie_Id_u)\n",
    "#df_p = df_p.replace(0, np.NaN)"
   ]
  },
  {
   "cell_type": "code",
   "execution_count": 14,
   "metadata": {},
   "outputs": [
    {
     "name": "stdout",
     "output_type": "stream",
     "text": [
      "            Year                          Name\n",
      "Movie_Id                                      \n",
      "1         2003.0               Dinosaur Planet\n",
      "2         2004.0    Isle of Man TT 2004 Review\n",
      "3         1997.0                     Character\n",
      "4         1994.0  Paula Abdul's Get Up & Dance\n",
      "5         2004.0      The Rise and Fall of ECW\n",
      "6         1997.0                          Sick\n",
      "7         1992.0                         8 Man\n",
      "8         2004.0    What the #$*! Do We Know!?\n",
      "9         1991.0      Class of Nuke 'Em High 2\n",
      "10        2001.0                       Fighter\n"
     ]
    }
   ],
   "source": [
    "# Data mapping \n",
    "# Now we load the movie mapping file:\n",
    "\n",
    "#df_title = pd.read_csv('../input/movie_titles.csv', encoding = \"ISO-8859-1\", header = None, names = ['Movie_Id', 'Year', 'Name'])\n",
    "df_title = pd.read_csv('movie_titles.csv', encoding = \"ISO-8859-1\", header = None, names = ['Movie_Id', 'Year', 'Name'])\n",
    "df_title.set_index('Movie_Id', inplace = True)\n",
    "print (df_title.head(10))"
   ]
  },
  {
   "cell_type": "code",
   "execution_count": 15,
   "metadata": {},
   "outputs": [
    {
     "name": "stderr",
     "output_type": "stream",
     "text": [
      "C:\\Users\\USER\\Anaconda3\\envs\\tensorflow-gpu\\lib\\site-packages\\surprise\\evaluate.py:66: UserWarning: The evaluate() method is deprecated. Please use model_selection.cross_validate() instead.\n",
      "  'model_selection.cross_validate() instead.', UserWarning)\n",
      "C:\\Users\\USER\\Anaconda3\\envs\\tensorflow-gpu\\lib\\site-packages\\surprise\\dataset.py:193: UserWarning: Using data.split() or using load_from_folds() without using a CV iterator is now deprecated. \n",
      "  UserWarning)\n"
     ]
    },
    {
     "name": "stdout",
     "output_type": "stream",
     "text": [
      "Evaluating RMSE, MAE of algorithm SVD.\n",
      "\n",
      "------------\n",
      "Fold 1\n",
      "RMSE: 0.9857\n",
      "MAE:  0.7980\n",
      "------------\n",
      "Fold 2\n",
      "RMSE: 0.9844\n",
      "MAE:  0.7942\n",
      "------------\n",
      "Fold 3\n",
      "RMSE: 0.9812\n",
      "MAE:  0.7874\n",
      "------------\n",
      "------------\n",
      "Mean RMSE: 0.9838\n",
      "Mean MAE : 0.7932\n",
      "------------\n",
      "------------\n"
     ]
    },
    {
     "data": {
      "text/plain": [
       "CaseInsensitiveDefaultDict(list,\n",
       "                           {'mae': [0.7980234881820591,\n",
       "                             0.7941518176572182,\n",
       "                             0.7873836700649837],\n",
       "                            'rmse': [0.9857082514352006,\n",
       "                             0.984355831099428,\n",
       "                             0.9812432748421381]})"
      ]
     },
     "execution_count": 15,
     "metadata": {},
     "output_type": "execute_result"
    }
   ],
   "source": [
    "# Recommendation models  \n",
    "\"\"\"Well all data required is loaded and cleaned! Next let's get into the recommendation system.\n",
    "Recommend with Collaborative Filtering\n",
    "Evalute performance of collaborative filtering, with just first 100K rows for faster process:\n",
    "\"\"\"    \n",
    "\n",
    "reader = Reader()\n",
    "\n",
    "# get just top 100K rows for faster run time\n",
    "data = Dataset.load_from_df(df[['Cust_Id', 'Movie_Id', 'Rating']][:100000], reader)\n",
    "data.split(n_folds=3)\n",
    "\n",
    "svd = SVD()\n",
    "evaluate(svd, data, measures=['RMSE', 'MAE'])\n"
   ]
  },
  {
   "cell_type": "code",
   "execution_count": 16,
   "metadata": {},
   "outputs": [
    {
     "name": "stdout",
     "output_type": "stream",
     "text": [
      "Movie_Id\n",
      "175                                        Reservoir Dogs\n",
      "311                                               Ed Wood\n",
      "329                                                 Dogma\n",
      "331                                           Chasing Amy\n",
      "788                                                Clerks\n",
      "798                                                  Jaws\n",
      "907                                       Animal Crackers\n",
      "985                                             The Mummy\n",
      "1552                                          Black Adder\n",
      "1905    Pirates of the Caribbean: The Curse of the Bla...\n",
      "2000                          Four Weddings and a Funeral\n",
      "2122                                 Being John Malkovich\n",
      "2342                                        Super Size Me\n",
      "2360                                  Singin' in the Rain\n",
      "2430                           Alien: Collector's Edition\n",
      "2443                             Like Water for Chocolate\n",
      "2452        Lord of the Rings: The Fellowship of the Ring\n",
      "2465                                   This Is Spinal Tap\n",
      "2554                        The Rocky Horror Picture Show\n",
      "2848                                          The Hustler\n",
      "2862                             The Silence of the Lambs\n",
      "3150                     Monty Python: The Life of Python\n",
      "3168                            Evil Dead 2: Dead by Dawn\n",
      "3198                                    The Addams Family\n",
      "3315                                   The Maltese Falcon\n",
      "3446                                        Spirited Away\n",
      "3489                                         Time Bandits\n",
      "3590                              Jason and the Argonauts\n",
      "3648            Who Framed Roger Rabbit?: Special Edition\n",
      "3798                                            The Sting\n",
      "3935                                     Yellow Submarine\n",
      "3962                            Finding Nemo (Widescreen)\n",
      "4080                                        A Mighty Wind\n",
      "4227                                       The Full Monty\n",
      "4306                                      The Sixth Sense\n",
      "4345                                Bowling for Columbine\n",
      "4356                                    Road to Perdition\n",
      "4392                                     Army of Darkness\n",
      "4454                                 To Have and Have Not\n",
      "Name: Name, dtype: object\n"
     ]
    }
   ],
   "source": [
    "# Below is what user 783514 liked in the past:\n",
    "\n",
    "df_785314 = df[(df['Cust_Id'] == 785314) & (df['Rating'] == 5)]\n",
    "df_785314 = df_785314.set_index('Movie_Id')\n",
    "df_785314 = df_785314.join(df_title)['Name']\n",
    "print(df_785314)"
   ]
  },
  {
   "cell_type": "code",
   "execution_count": 17,
   "metadata": {},
   "outputs": [
    {
     "name": "stderr",
     "output_type": "stream",
     "text": [
      "C:\\Users\\USER\\Anaconda3\\envs\\tensorflow-gpu\\lib\\site-packages\\surprise\\prediction_algorithms\\algo_base.py:51: UserWarning: train() is deprecated. Use fit() instead\n",
      "  warnings.warn('train() is deprecated. Use fit() instead', UserWarning)\n"
     ]
    },
    {
     "name": "stdout",
     "output_type": "stream",
     "text": [
      "        Year                                        Name  Estimate_Score\n",
      "1664  1998.0                                     Orgazmo        4.951124\n",
      "328   1999.0                                       Dogma        4.912287\n",
      "787   1994.0                                      Clerks        4.843656\n",
      "1551  1983.0                                 Black Adder        4.816987\n",
      "1799  2002.0                 An Evening With Kevin Smith        4.782036\n",
      "721   2003.0                          The Wire: Season 1        4.687192\n",
      "4184  1989.0              The Kids in the Hall: Season 1        4.684069\n",
      "4359  1996.0                          Mr. Show: Season 2        4.617970\n",
      "3149  2000.0            Monty Python: The Life of Python        4.552493\n",
      "2194  2004.0  The Looney Tunes Golden Collection: Vol. 2        4.550653\n"
     ]
    }
   ],
   "source": [
    "# Let's predict which movies user 785314 \n",
    "# would love to watch:\n",
    "\n",
    "user_785314 = df_title.copy()\n",
    "user_785314 = user_785314.reset_index()\n",
    "user_785314 = user_785314[~user_785314['Movie_Id'].isin(drop_movie_list)]\n",
    "\n",
    "# getting full dataset\n",
    "data = Dataset.load_from_df(df[['Cust_Id', 'Movie_Id', 'Rating']], reader)\n",
    "\n",
    "trainset = data.build_full_trainset()\n",
    "svd.train(trainset)\n",
    "\n",
    "user_785314['Estimate_Score'] = user_785314['Movie_Id'].apply(lambda x: svd.predict(785314, x).est)\n",
    "\n",
    "user_785314 = user_785314.drop('Movie_Id', axis = 1)\n",
    "\n",
    "user_785314 = user_785314.sort_values('Estimate_Score', ascending=False)\n",
    "print(user_785314.head(10))"
   ]
  },
  {
   "cell_type": "code",
   "execution_count": 18,
   "metadata": {},
   "outputs": [],
   "source": [
    "# Recommend with Pearsons' R correlations\n",
    "\"\"\"The way it works is we use Pearsons' R correlation \n",
    "to measure the linear correlation between review scores \n",
    "of all pairs of movies, then we provide the top 10 movies\n",
    "with highest correlations:\n",
    "\"\"\"\n",
    "def recommend(movie_title, min_count):\n",
    "    print(\"For movie ({})\".format(movie_title))\n",
    "    print(\"- Top 10 movies recommended based on Pearsons'R correlation - \")\n",
    "    i = int(df_title.index[df_title['Name'] == movie_title][0])\n",
    "    target = df_p[i]\n",
    "    similar_to_target = df_p.corrwith(target)\n",
    "    corr_target = pd.DataFrame(similar_to_target, columns = ['PearsonR'])\n",
    "    corr_target.dropna(inplace = True)\n",
    "    corr_target = corr_target.sort_values('PearsonR', ascending = False)\n",
    "    corr_target.index = corr_target.index.map(int)\n",
    "    corr_target = corr_target.join(df_title).join(df_movie_summary)[['PearsonR', 'Name', 'count', 'mean']]\n",
    "    print(corr_target[corr_target['count']>min_count][:10].to_string(index=False))"
   ]
  },
  {
   "cell_type": "code",
   "execution_count": 19,
   "metadata": {},
   "outputs": [
    {
     "name": "stdout",
     "output_type": "stream",
     "text": [
      "For movie (What the #$*! Do We Know!?)\n",
      "- Top 10 movies recommended based on Pearsons'R correlation - \n",
      "PearsonR                                      Name  count      mean\n",
      "                                                                   \n",
      "1.000000                What the #$*! Do We Know!?  14910  3.189805\n",
      "0.326285                          The 10th Kingdom   4532  3.669903\n",
      "0.324225              Star Trek: Voyager: Season 5   4175  4.111377\n",
      "0.316818                                  Together   3958  3.889843\n",
      "0.312717      Star Trek: Deep Space Nine: Season 5   4373  4.160759\n",
      "0.309444           To Gillian on her 37th Birthday   4261  3.102793\n",
      "0.289334              Murder on the Orient Express   4785  3.743783\n",
      "0.288829        Nausicaa of the Valley of the Wind   6674  4.189542\n",
      "0.288389  Star Trek: The Next Generation: Season 5   8978  4.247494\n",
      "0.286320         The Life & Death of Peter Sellers   4702  3.099957\n"
     ]
    }
   ],
   "source": [
    "# A recommendation for you if you like 'What the #$*! Do We Know!?'\n",
    "\n",
    "recommend(\"What the #$*! Do We Know!?\", 0)"
   ]
  },
  {
   "cell_type": "code",
   "execution_count": 20,
   "metadata": {},
   "outputs": [
    {
     "name": "stdout",
     "output_type": "stream",
     "text": [
      "For movie (X2: X-Men United)\n",
      "- Top 10 movies recommended based on Pearsons'R correlation - \n",
      "PearsonR                      Name   count      mean\n",
      "                                                    \n",
      "1.000000          X2: X-Men United   98720  3.932202\n",
      "0.342535             Batman Begins   54922  4.236699\n",
      "0.313025  Mortal Kombat: The Movie    7633  3.165466\n",
      "0.311354      The Matrix: Reloaded  106807  3.514704\n",
      "0.303351    Todd McFarlane's Spawn    4684  3.612511\n",
      "0.295555   The Matrix: Revolutions   60415  3.517040\n",
      "0.295549                Species II    7526  2.781424\n",
      "0.294434                 Daredevil   62628  2.979642\n",
      "0.293918      Smallville: Season 1   10082  4.169609\n",
      "0.293820            Blade: Trinity   42727  3.548974\n"
     ]
    }
   ],
   "source": [
    "# X2: X-Men United:\n",
    "\n",
    "recommend(\"X2: X-Men United\", 0)"
   ]
  },
  {
   "cell_type": "code",
   "execution_count": null,
   "metadata": {},
   "outputs": [],
   "source": []
  }
 ],
 "metadata": {
  "kernelspec": {
   "display_name": "tensorflow-gpu",
   "language": "python",
   "name": "tf-gpu"
  },
  "language_info": {
   "codemirror_mode": {
    "name": "ipython",
    "version": 3
   },
   "file_extension": ".py",
   "mimetype": "text/x-python",
   "name": "python",
   "nbconvert_exporter": "python",
   "pygments_lexer": "ipython3",
   "version": "3.5.6"
  }
 },
 "nbformat": 4,
 "nbformat_minor": 2
}
